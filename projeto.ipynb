{
 "cells": [
  {
   "cell_type": "markdown",
   "metadata": {},
   "source": [
    "# Projeto estatística "
   ]
  },
  {
   "cell_type": "markdown",
   "metadata": {},
   "source": [
    "### Aluno: Heitor Brunini Araújo Barbosa "
   ]
  },
  {
   "cell_type": "markdown",
   "metadata": {},
   "source": [
    "### QUESTÃO 1: "
   ]
  },
  {
   "cell_type": "code",
   "execution_count": 9,
   "metadata": {
    "tags": []
   },
   "outputs": [],
   "source": [
    "import pandas as pd\n",
    "import numpy as np\n",
    "dfu=pd.read_csv('https://raw.githubusercontent.com/heitorbrunini/projeto-estatisca/main/datatran2019.csv',sep=';',encoding='latin-1')\n",
    "dfd=pd.read_csv('https://raw.githubusercontent.com/heitorbrunini/projeto-estatisca/main/datatran2020.csv',sep=';',encoding='latin-1')"
   ]
  },
  {
   "cell_type": "markdown",
   "metadata": {},
   "source": [
    "### QUESTÃO 2:"
   ]
  },
  {
   "cell_type": "markdown",
   "metadata": {},
   "source": [
    "LETRA A:"
   ]
  },
  {
   "cell_type": "code",
   "execution_count": 10,
   "metadata": {},
   "outputs": [
    {
     "name": "stdout",
     "output_type": "stream",
     "text": [
      "<class 'pandas.core.frame.DataFrame'>\n",
      "RangeIndex: 67446 entries, 0 to 67445\n",
      "Data columns (total 30 columns):\n",
      " #   Column                  Non-Null Count  Dtype  \n",
      "---  ------                  --------------  -----  \n",
      " 0   id                      67446 non-null  float64\n",
      " 1   data_inversa            67446 non-null  object \n",
      " 2   dia_semana              67446 non-null  object \n",
      " 3   horario                 67446 non-null  object \n",
      " 4   uf                      67446 non-null  object \n",
      " 5   br                      67351 non-null  float64\n",
      " 6   km                      67351 non-null  object \n",
      " 7   municipio               67446 non-null  object \n",
      " 8   causa_acidente          67446 non-null  object \n",
      " 9   tipo_acidente           67446 non-null  object \n",
      " 10  classificacao_acidente  67446 non-null  object \n",
      " 11  fase_dia                67446 non-null  object \n",
      " 12  sentido_via             67446 non-null  object \n",
      " 13  condicao_metereologica  67446 non-null  object \n",
      " 14  tipo_pista              67446 non-null  object \n",
      " 15  tracado_via             67446 non-null  object \n",
      " 16  uso_solo                67446 non-null  object \n",
      " 17  pessoas                 67446 non-null  int64  \n",
      " 18  mortos                  67446 non-null  int64  \n",
      " 19  feridos_leves           67446 non-null  int64  \n",
      " 20  feridos_graves          67446 non-null  int64  \n",
      " 21  ilesos                  67446 non-null  int64  \n",
      " 22  ignorados               67446 non-null  int64  \n",
      " 23  feridos                 67446 non-null  int64  \n",
      " 24  veiculos                67446 non-null  int64  \n",
      " 25  latitude                67446 non-null  object \n",
      " 26  longitude               67446 non-null  object \n",
      " 27  regional                67446 non-null  object \n",
      " 28  delegacia               67446 non-null  object \n",
      " 29  uop                     64006 non-null  object \n",
      "dtypes: float64(2), int64(8), object(20)\n",
      "memory usage: 15.4+ MB\n",
      "None\n",
      "---------------------------------------\n",
      "<class 'pandas.core.frame.DataFrame'>\n",
      "RangeIndex: 63447 entries, 0 to 63446\n",
      "Data columns (total 30 columns):\n",
      " #   Column                  Non-Null Count  Dtype  \n",
      "---  ------                  --------------  -----  \n",
      " 0   id                      63447 non-null  float64\n",
      " 1   data_inversa            63447 non-null  object \n",
      " 2   dia_semana              63447 non-null  object \n",
      " 3   horario                 63447 non-null  object \n",
      " 4   uf                      63447 non-null  object \n",
      " 5   br                      63292 non-null  float64\n",
      " 6   km                      63292 non-null  object \n",
      " 7   municipio               63447 non-null  object \n",
      " 8   causa_acidente          63447 non-null  object \n",
      " 9   tipo_acidente           63447 non-null  object \n",
      " 10  classificacao_acidente  63447 non-null  object \n",
      " 11  fase_dia                63447 non-null  object \n",
      " 12  sentido_via             63447 non-null  object \n",
      " 13  condicao_metereologica  63447 non-null  object \n",
      " 14  tipo_pista              63447 non-null  object \n",
      " 15  tracado_via             63447 non-null  object \n",
      " 16  uso_solo                63447 non-null  object \n",
      " 17  pessoas                 63447 non-null  int64  \n",
      " 18  mortos                  63447 non-null  int64  \n",
      " 19  feridos_leves           63447 non-null  int64  \n",
      " 20  feridos_graves          63447 non-null  int64  \n",
      " 21  ilesos                  63447 non-null  int64  \n",
      " 22  ignorados               63447 non-null  int64  \n",
      " 23  feridos                 63447 non-null  int64  \n",
      " 24  veiculos                63447 non-null  int64  \n",
      " 25  latitude                63447 non-null  object \n",
      " 26  longitude               63447 non-null  object \n",
      " 27  regional                63447 non-null  object \n",
      " 28  delegacia               63447 non-null  object \n",
      " 29  uop                     63048 non-null  object \n",
      "dtypes: float64(2), int64(8), object(20)\n",
      "memory usage: 14.5+ MB\n",
      "None\n"
     ]
    }
   ],
   "source": [
    "print(dfu.info())\n",
    "print('---------------------------------------')\n",
    "print(dfd.info())\n",
    "#sabendo que cada linha é um acidente, é possível afirmar por df.info() que:\n",
    "#ocorreram 67446 acidentes no ano de 2019\n",
    "#ocorreram 63447 acidentes no ano de 2020"
   ]
  },
  {
   "cell_type": "markdown",
   "metadata": {},
   "source": [
    "LETRA B:"
   ]
  },
  {
   "cell_type": "code",
   "execution_count": 54,
   "metadata": {},
   "outputs": [],
   "source": [
    "#30 variáveis (Colunas)"
   ]
  },
  {
   "cell_type": "markdown",
   "metadata": {},
   "source": [
    "LETRA C"
   ]
  },
  {
   "cell_type": "code",
   "execution_count": 4,
   "metadata": {},
   "outputs": [
    {
     "data": {
      "text/plain": [
       "municipio\n",
       "CURITIBA     1094\n",
       "BRASILIA     1090\n",
       "SAO JOSE      819\n",
       "GUARULHOS     717\n",
       "SERRA         633\n",
       "dtype: int64"
      ]
     },
     "execution_count": 4,
     "metadata": {},
     "output_type": "execute_result"
    }
   ],
   "source": [
    "m=pd.DataFrame(dfu['municipio']) #criando um dataframe apenas com os municípios\n",
    "m=m.value_counts() #contanto os múnicipios que tem valor igual\n",
    "m.head(5) #pegando os 5 primeiros termos podemos afirmar que\n",
    "\n",
    "#as cinco cidades brasileiras onde mais ocorreram acidentes em rodovias federais em 2019 são:\n",
    "#Curitiba, Brasilia, São José. Guarulhos e Serra"
   ]
  },
  {
   "cell_type": "code",
   "execution_count": 5,
   "metadata": {},
   "outputs": [
    {
     "data": {
      "text/plain": [
       "municipio\n",
       "BRASILIA     1040\n",
       "CURITIBA      945\n",
       "GUARULHOS     639\n",
       "SAO JOSE      629\n",
       "PALHOCA       593\n",
       "dtype: int64"
      ]
     },
     "execution_count": 5,
     "metadata": {},
     "output_type": "execute_result"
    }
   ],
   "source": [
    "m=pd.DataFrame(dfd['municipio'])  #criando um dataframe apenas com os municípios\n",
    "m=m.value_counts()#contanto os múnicipios que tem valor igual\n",
    "m.head(5)#pegando os 5 primeiros termos podemos afirmar que \n",
    "\n",
    "#as cinco cidades brasileiras onde mais ocorreram acidentes em rodovias federais em 2020 são:\n",
    "#Brasilia, Curitiba, Guarulhos, São José. Palhoça"
   ]
  },
  {
   "cell_type": "markdown",
   "metadata": {},
   "source": [
    "LETRA D:    "
   ]
  },
  {
   "cell_type": "code",
   "execution_count": 9,
   "metadata": {},
   "outputs": [
    {
     "name": "stdout",
     "output_type": "stream",
     "text": [
      "<class 'pandas.core.frame.DataFrame'>\n",
      "Int64Index: 414 entries, 47 to 67050\n",
      "Data columns (total 30 columns):\n",
      " #   Column                  Non-Null Count  Dtype  \n",
      "---  ------                  --------------  -----  \n",
      " 0   id                      414 non-null    float64\n",
      " 1   data_inversa            414 non-null    object \n",
      " 2   dia_semana              414 non-null    object \n",
      " 3   horario                 414 non-null    object \n",
      " 4   uf                      414 non-null    object \n",
      " 5   br                      414 non-null    float64\n",
      " 6   km                      414 non-null    object \n",
      " 7   municipio               414 non-null    object \n",
      " 8   causa_acidente          414 non-null    object \n",
      " 9   tipo_acidente           414 non-null    object \n",
      " 10  classificacao_acidente  414 non-null    object \n",
      " 11  fase_dia                414 non-null    object \n",
      " 12  sentido_via             414 non-null    object \n",
      " 13  condicao_metereologica  414 non-null    object \n",
      " 14  tipo_pista              414 non-null    object \n",
      " 15  tracado_via             414 non-null    object \n",
      " 16  uso_solo                414 non-null    object \n",
      " 17  pessoas                 414 non-null    int64  \n",
      " 18  mortos                  414 non-null    int64  \n",
      " 19  feridos_leves           414 non-null    int64  \n",
      " 20  feridos_graves          414 non-null    int64  \n",
      " 21  ilesos                  414 non-null    int64  \n",
      " 22  ignorados               414 non-null    int64  \n",
      " 23  feridos                 414 non-null    int64  \n",
      " 24  veiculos                414 non-null    int64  \n",
      " 25  latitude                414 non-null    object \n",
      " 26  longitude               414 non-null    object \n",
      " 27  regional                414 non-null    object \n",
      " 28  delegacia               414 non-null    object \n",
      " 29  uop                     414 non-null    object \n",
      "dtypes: float64(2), int64(8), object(20)\n",
      "memory usage: 100.3+ KB\n"
     ]
    }
   ],
   "source": [
    "pb = dfu[dfu['uf'] == 'PB'] #pegando apenas os valores 'PB' da coluna 'uf'\n",
    "pb = pb[pb['feridos_graves']>0] # pegando apenas os valores maiores que 0 da coluna 'feridos_graves'\n",
    "pb.info() # sabendo que cada linha é um acidente, podemos afirmar que:\n",
    "\n",
    "#ocorreram 414 acidentes com feridos graves na Paraíba no ano de 2019"
   ]
  },
  {
   "cell_type": "markdown",
   "metadata": {},
   "source": [
    "### QUESTÃO 3"
   ]
  },
  {
   "cell_type": "markdown",
   "metadata": {},
   "source": [
    "LETRA A:"
   ]
  },
  {
   "cell_type": "code",
   "execution_count": 21,
   "metadata": {},
   "outputs": [],
   "source": [
    "rku=pd.DataFrame(dfu['uf']) #pegando apenas a coluna 'UF'\n",
    "rku=pd.Series(rku.value_counts()) #contando os valores iguais, podemos criar um ranking\n",
    "\n",
    "rkd=pd.DataFrame(dfd['uf']) #pegando apenas a coluna 'UF'\n",
    "rkd=pd.Series(rkd.value_counts())#contando os valores iguais, podemos criar um ranking\n",
    "dic={'2019':rku,\n",
    "    '2020':rkd,\n",
    "    'Total':rku+rkd\n",
    "};x=pd.DataFrame(dic)#criando nosso data frame\n",
    "\n",
    "x=x.sort_values(['2019','2020','Total'], ascending=False)#organizando os valores começando pelo maior\n",
    "x.to_csv('acidentesporUF.csv')#transformando nosso dataframe em um CSV"
   ]
  },
  {
   "cell_type": "markdown",
   "metadata": {},
   "source": [
    "LETRA B:"
   ]
  },
  {
   "cell_type": "code",
   "execution_count": 22,
   "metadata": {},
   "outputs": [],
   "source": [
    "du=pd.DataFrame(dfu['dia_semana']) #pegando apenas a coluna 'UF'\n",
    "du=du.value_counts() #contando os valores iguais, podemos criar um ranking\n",
    "\n",
    "dd=pd.DataFrame(dfd['dia_semana']) #pegando apenas a coluna 'UF'\n",
    "dd=dd.value_counts() #contando os valores iguais, podemos criar um ranking\n",
    "\n",
    "dic={'2019':du,\n",
    "    '2020':dd,\n",
    "    'Total':du+dd\n",
    "};x=pd.DataFrame(dic)#criando nosso data frame\n",
    "\n",
    "x=x.sort_values(['2019','2020','Total'], ascending=False)#organizando os valores começando pelo maior\n",
    "x.to_csv('acidentesporDia.csv')#transformando nosso dataframe em um CSV"
   ]
  },
  {
   "cell_type": "markdown",
   "metadata": {},
   "source": [
    "### QUESTÃO 4 "
   ]
  },
  {
   "cell_type": "markdown",
   "metadata": {},
   "source": [
    "LETRA A:"
   ]
  },
  {
   "cell_type": "code",
   "execution_count": 10,
   "metadata": {},
   "outputs": [
    {
     "name": "stdout",
     "output_type": "stream",
     "text": [
      "causa_acidente             \n",
      "Falta de Atenção à Condução    24992\n",
      "dtype: int64\n",
      "causa_acidente                     \n",
      "Ingestão de Substâncias Psicoativas    94\n",
      "dtype: int64\n",
      "---------------------------------------\n",
      "causa_acidente             \n",
      "Falta de Atenção à Condução    22414\n",
      "dtype: int64\n",
      "causa_acidente                                                \n",
      "Acumulo de óleo sobre o pavimento                                 1\n",
      "Afundamento ou ondulação no pavimento                             1\n",
      "Pedestre cruzava a pista fora da faixa                            1\n",
      "Acumulo de água sobre o pavimento                                 1\n",
      "Condutor usando celular                                           1\n",
      "Trafegar com motocicleta (ou similar) entre as faixas             1\n",
      "Ausência de sinalização                                           1\n",
      "Ingestão de álcool ou de substâncias psicoativas pelo pedestre    1\n",
      "Acostamento em desnível                                           1\n",
      "Frear bruscamente                                                 1\n",
      "dtype: int64\n"
     ]
    }
   ],
   "source": [
    "c2019=pd.DataFrame(dfu['causa_acidente']) # criamos uma coluna com as causas dos acidentes\n",
    "c2019=c2019.value_counts() # contamos os valores repetidos, assim formando um ranking\n",
    "print(c2019.head(1)) #pegamos o primeiro colocado\n",
    "#maior causa 2019: Falta de Atenção à Condução\n",
    "print(c2019.tail(1)) #pegamos o último colocado\n",
    "#menor causa 2019: Ingestão de Substâncias Psicoativas\n",
    "\n",
    "print('---------------------------------------')\n",
    "\n",
    "c2020=pd.DataFrame(dfd['causa_acidente'])# criamos uma coluna com as causas dos acidentes\n",
    "c2020=c2020.value_counts() # contamos os valores repetidos, assim formando um ranking\n",
    "print(c2020.head(1)) #pegamos o primeiro colocado\n",
    "#maior causa 2020: Falta de Atenção à Condução\n",
    "print(c2020.tail(10)) #pegamos os últimos colocados\n",
    "#menores causas 2020: Frear bruscamente \n",
    "#Acumulo de óleo sobre o pavimento \n",
    "#afundamento ou ondulação no pavimento                             \n",
    "#Pedestre cruzava a pista fora da faixa                            \n",
    "#Acumulo de água sobre o pavimento                                 \n",
    "#Condutor usando celular                                           \n",
    "#Trafegar com motocicleta (ou similar) entre as faixas             \n",
    "#Ausência de sinalização                                           \n",
    "#Ingestão de álcool ou de substâncias psicoativas pelo pedestre    \n",
    "#Acostamento em desnível"
   ]
  },
  {
   "cell_type": "markdown",
   "metadata": {},
   "source": [
    "LETRA B:"
   ]
  },
  {
   "cell_type": "code",
   "execution_count": 4,
   "metadata": {},
   "outputs": [
    {
     "data": {
      "text/html": [
       "<div>\n",
       "<style scoped>\n",
       "    .dataframe tbody tr th:only-of-type {\n",
       "        vertical-align: middle;\n",
       "    }\n",
       "\n",
       "    .dataframe tbody tr th {\n",
       "        vertical-align: top;\n",
       "    }\n",
       "\n",
       "    .dataframe thead th {\n",
       "        text-align: right;\n",
       "    }\n",
       "</style>\n",
       "<table border=\"1\" class=\"dataframe\">\n",
       "  <thead>\n",
       "    <tr style=\"text-align: right;\">\n",
       "      <th></th>\n",
       "      <th>Graves-2019</th>\n",
       "      <th>Ilesos-2019</th>\n",
       "      <th>Graves-2020</th>\n",
       "      <th>Ilesos-2020</th>\n",
       "    </tr>\n",
       "  </thead>\n",
       "  <tbody>\n",
       "    <tr>\n",
       "      <th>Janeiro %</th>\n",
       "      <td>11.33</td>\n",
       "      <td>42.42</td>\n",
       "      <td>10.75</td>\n",
       "      <td>41.56</td>\n",
       "    </tr>\n",
       "    <tr>\n",
       "      <th>Fevereiro %</th>\n",
       "      <td>10.68</td>\n",
       "      <td>42.41</td>\n",
       "      <td>11.14</td>\n",
       "      <td>42.00</td>\n",
       "    </tr>\n",
       "    <tr>\n",
       "      <th>Março %</th>\n",
       "      <td>11.46</td>\n",
       "      <td>43.32</td>\n",
       "      <td>11.24</td>\n",
       "      <td>40.10</td>\n",
       "    </tr>\n",
       "    <tr>\n",
       "      <th>Abril %</th>\n",
       "      <td>10.60</td>\n",
       "      <td>41.57</td>\n",
       "      <td>11.78</td>\n",
       "      <td>37.65</td>\n",
       "    </tr>\n",
       "    <tr>\n",
       "      <th>Maio %</th>\n",
       "      <td>12.08</td>\n",
       "      <td>41.52</td>\n",
       "      <td>11.58</td>\n",
       "      <td>40.13</td>\n",
       "    </tr>\n",
       "    <tr>\n",
       "      <th>Junho %</th>\n",
       "      <td>12.16</td>\n",
       "      <td>42.38</td>\n",
       "      <td>11.59</td>\n",
       "      <td>42.35</td>\n",
       "    </tr>\n",
       "    <tr>\n",
       "      <th>Julho %</th>\n",
       "      <td>11.67</td>\n",
       "      <td>43.68</td>\n",
       "      <td>10.85</td>\n",
       "      <td>42.45</td>\n",
       "    </tr>\n",
       "    <tr>\n",
       "      <th>Agosto %</th>\n",
       "      <td>11.67</td>\n",
       "      <td>41.31</td>\n",
       "      <td>11.89</td>\n",
       "      <td>42.35</td>\n",
       "    </tr>\n",
       "    <tr>\n",
       "      <th>Setembro %</th>\n",
       "      <td>11.07</td>\n",
       "      <td>42.11</td>\n",
       "      <td>11.73</td>\n",
       "      <td>41.64</td>\n",
       "    </tr>\n",
       "    <tr>\n",
       "      <th>Outubro %</th>\n",
       "      <td>11.98</td>\n",
       "      <td>41.89</td>\n",
       "      <td>11.95</td>\n",
       "      <td>41.12</td>\n",
       "    </tr>\n",
       "    <tr>\n",
       "      <th>Novembro %</th>\n",
       "      <td>11.10</td>\n",
       "      <td>42.58</td>\n",
       "      <td>12.01</td>\n",
       "      <td>40.77</td>\n",
       "    </tr>\n",
       "    <tr>\n",
       "      <th>Dezembro %</th>\n",
       "      <td>11.44</td>\n",
       "      <td>42.23</td>\n",
       "      <td>12.17</td>\n",
       "      <td>41.25</td>\n",
       "    </tr>\n",
       "  </tbody>\n",
       "</table>\n",
       "</div>"
      ],
      "text/plain": [
       "            Graves-2019 Ilesos-2019 Graves-2020 Ilesos-2020\n",
       "Janeiro %         11.33       42.42       10.75       41.56\n",
       "Fevereiro %       10.68       42.41       11.14       42.00\n",
       "Março %           11.46       43.32       11.24       40.10\n",
       "Abril %           10.60       41.57       11.78       37.65\n",
       "Maio %            12.08       41.52       11.58       40.13\n",
       "Junho %           12.16       42.38       11.59       42.35\n",
       "Julho %           11.67       43.68       10.85       42.45\n",
       "Agosto %          11.67       41.31       11.89       42.35\n",
       "Setembro %        11.07       42.11       11.73       41.64\n",
       "Outubro %         11.98       41.89       11.95       41.12\n",
       "Novembro %        11.10       42.58       12.01       40.77\n",
       "Dezembro %        11.44       42.23       12.17       41.25"
      ]
     },
     "execution_count": 4,
     "metadata": {},
     "output_type": "execute_result"
    }
   ],
   "source": [
    "x2019=dfu[[\"data_inversa\",\"feridos_graves\",\"ilesos\",\"pessoas\"]].groupby([\"data_inversa\"]).sum()\n",
    "#primeiro criamos um data frame agrupado pela \"data_inversa\", somando todas as datas semelhantes\n",
    "#em ambos os anos\n",
    "x2020=dfd[[\"data_inversa\",\"feridos_graves\",\"ilesos\",\"pessoas\"]].groupby([\"data_inversa\"]).sum()\n",
    "\n",
    "#aqui fica o coração do código, vamos ver como funciona\n",
    "def flamengo (x): # criamos uma função que vai ser utilizada em um Data frame X\n",
    "    z=x.index    #sabendo que o index do data frame são as datas, criamos uma lista pra esses indices\n",
    "    lista_feridos=[0,0,0,0,0,0,0,0,0,0,0,0]\n",
    "    lista_ilesos=[0,0,0,0,0,0,0,0,0,0,0,0] # aqui alocamos o espaço para adicionarmos os valores\n",
    "    lista_total=[0,0,0,0,0,0,0,0,0,0,0,0]  # dos feridos, ilesos e total de pessoas envolvidas\n",
    "    \n",
    "    for i in z: # criamos um for percorrendo a lista de indices que fizemos\n",
    "        n=i.split('-') # sabendo que o indice tem formato [20xx-xx-xx] quebramos essa lista pelo '-'\n",
    "        if n[1]=='01': # assim podemos definir o mês que estamos percorrendo pelo valor do meio\n",
    "            # ex: i= ['2019-01-01'], n=['2019','01',01']: mês 01, janeiro\n",
    "            lista_feridos[0]+=x.loc[i]['feridos_graves']\n",
    "            lista_total[0]+=x.loc[i]['pessoas'] #então para finalizar só precisamos somar valor na lista \n",
    "            lista_ilesos[0]+=x.loc[i]['ilesos'] #que haviamos alocado espaço pra cada mês\n",
    "        elif n[1]=='02':\n",
    "            lista_feridos[1]+=x.loc[i]['feridos_graves']\n",
    "            lista_total[1]+=x.loc[i]['pessoas']\n",
    "            lista_ilesos[1]+=x.loc[i]['ilesos']\n",
    "        elif n[1]=='03':\n",
    "            lista_feridos[2]+=x.loc[i]['feridos_graves']\n",
    "            lista_total[2]+=x.loc[i]['pessoas']\n",
    "            lista_ilesos[2]+=x.loc[i]['ilesos']\n",
    "        elif n[1]=='04':\n",
    "            lista_feridos[3]+=x.loc[i]['feridos_graves']\n",
    "            lista_total[3]+=x.loc[i]['pessoas']\n",
    "            lista_ilesos[3]+=x.loc[i]['ilesos']\n",
    "        elif n[1]=='05':\n",
    "            lista_feridos[4]+=x.loc[i]['feridos_graves']\n",
    "            lista_total[4]+=x.loc[i]['pessoas']\n",
    "            lista_ilesos[4]+=x.loc[i]['ilesos']\n",
    "        elif n[1]=='06':\n",
    "            lista_feridos[5]+=x.loc[i]['feridos_graves']\n",
    "            lista_total[5]+=x.loc[i]['pessoas']\n",
    "            lista_ilesos[5]+=x.loc[i]['ilesos']\n",
    "        elif n[1]=='07':\n",
    "            lista_feridos[6]+=x.loc[i]['feridos_graves']\n",
    "            lista_total[6]+=x.loc[i]['pessoas']\n",
    "            lista_ilesos[6]+=x.loc[i]['ilesos']\n",
    "        elif n[1]=='08':\n",
    "            lista_feridos[7]+=x.loc[i]['feridos_graves']\n",
    "            lista_total[7]+=x.loc[i]['pessoas']\n",
    "            lista_ilesos[7]+=x.loc[i]['ilesos']\n",
    "        elif n[1]=='09':\n",
    "            lista_feridos[8]+=x.loc[i]['feridos_graves']\n",
    "            lista_total[8]+=x.loc[i]['pessoas']\n",
    "            lista_ilesos[8]+=x.loc[i]['ilesos']\n",
    "        elif n[1]=='10':\n",
    "            lista_feridos[9]+=x.loc[i]['feridos_graves']\n",
    "            lista_total[9]+=x.loc[i]['pessoas']\n",
    "            lista_ilesos[9]+=x.loc[i]['ilesos']\n",
    "        elif n[1]=='11':\n",
    "            lista_feridos[10]+=x.loc[i]['feridos_graves']\n",
    "            lista_total[10]+=x.loc[i]['pessoas']\n",
    "            lista_ilesos[10]+=x.loc[i]['ilesos']\n",
    "        elif n[1]=='12':\n",
    "            lista_feridos[11]+=x.loc[i]['feridos_graves']\n",
    "            lista_total[11]+=x.loc[i]['pessoas'] \n",
    "            lista_ilesos[11]+=x.loc[i]['ilesos']\n",
    "    listas=[lista_feridos,lista_total,lista_ilesos]\n",
    "    return listas #retornamos uma matriz com a lista de feridos, total de pessoas e ilesos\n",
    "\n",
    "\n",
    "mediag2019=[];mediai2019=[]#criamos uma lista para alocar a média de feridos_graves/pessoas e ilesos/pessoas\n",
    "listas2019=flamengo(x2019)#chamando a função que nos criamos\n",
    "lista_feridos2019=listas2019[0]\n",
    "lista_total2019=listas2019[1]   #atribuimos as listas a seus respectivos valores na matriz listas20xx\n",
    "lista_ilesos2019=listas2019[2]\n",
    "\n",
    "mediag2020=[];mediai2020=[]\n",
    "listas2020=flamengo(x2020)\n",
    "lista_feridos2020=listas2020[0]\n",
    "lista_total2020=listas2020[1]\n",
    "lista_ilesos2020=listas2020[2]\n",
    "\n",
    "for i in range(12): #alocamos valores as listas das médias feridos_graves/pessoas e ilesos/pessoas\n",
    "    mediag2019.append('%.2f'%((lista_feridos2019[i]/lista_total2019[i])*100))\n",
    "    mediai2019.append('%.2f'%((lista_ilesos2019[i]/lista_total2019[i])*100))\n",
    "    mediag2020.append('%.2f'%((lista_feridos2020[i]/lista_total2020[i])*100))\n",
    "    mediai2020.append('%.2f'%((lista_ilesos2020[i]/lista_total2020[i])*100))\n",
    "meses=['Janeiro %','Fevereiro %','Março %','Abril %','Maio %','Junho %',\n",
    "       'Julho %','Agosto %','Setembro %','Outubro %','Novembro %','Dezembro %']#índices para o df final\n",
    "dat={'Graves-2019':mediag2019,\n",
    "     'Ilesos-2019':mediai2019, # criamos o diciońario para o df final\n",
    "     'Graves-2020':mediag2020,\n",
    "     'Ilesos-2020':mediai2020\n",
    "    }\n",
    "fim=pd.DataFrame(dat,index=meses) # e por fim, criamos o data frame com as médias percentuais\n",
    "fim"
   ]
  },
  {
   "cell_type": "markdown",
   "metadata": {},
   "source": [
    "LETRA C"
   ]
  },
  {
   "cell_type": "code",
   "execution_count": 7,
   "metadata": {},
   "outputs": [
    {
     "name": "stdout",
     "output_type": "stream",
     "text": [
      "Comparação total de acidentes por BR, 2020 em relação a 2019\n",
      "\n",
      "       total acidentes 2019  total acidentes 2020  aumento de acidentes\n",
      "BR                                                                     \n",
      "101.0                 11355                 10525                -830.0\n",
      "116.0                  9604                  9138                -466.0\n",
      "381.0                  3274                  3031                -243.0\n",
      "40.0                   3244                  3015                -229.0\n",
      "153.0                  2611                  2544                 -67.0\n",
      "...                     ...                   ...                   ...\n",
      "383.0                     1                     0                   0.0\n",
      "403.0                     1                     5                   4.0\n",
      "342.0                     1                     0                   0.0\n",
      "422.0                     1                     1                   0.0\n",
      "120.0                     1                     0                   0.0\n",
      "\n",
      "[115 rows x 3 columns]\n",
      "---------------------------------------------------------\n",
      "Comparação total de acidentes, 2020 em relação a 2019\n",
      "\n",
      "total acidentes 2019    67351.0\n",
      "total acidentes 2020    63283.0\n",
      "aumento de acidentes    -4063.0\n",
      "dtype: float64\n"
     ]
    }
   ],
   "source": [
    "data2019=pd.Series(dfu[\"br\"].value_counts())# criamos uma Serie com a coluna BR dos nossos dataframes\n",
    "data2020=pd.Series(dfd[\"br\"].value_counts())# e contamos os valores de 'br' igual\n",
    "compara= data2020 - data2019 # fazemos a diferença entre os acidentes de 2020 e 2019 para saber o aumento\n",
    "                            # de acidentes em 2020 com relação a 2019\n",
    "dic={ #criamos um dicionário para fazer nosso data frame final\n",
    "    'total acidentes 2019':data2019,\n",
    "    'total acidentes 2020':data2020,\n",
    "    'aumento de acidentes':compara\n",
    "}\n",
    "idx=data2019.index # determinamos que o índice será 'br'\n",
    "dft=pd.DataFrame(dic,index=idx);dft.index.name = 'BR' # criamos o data frame e nomeamos o índice de BR\n",
    "dft['aumento de acidentes'].fillna(0, inplace=True) # preenchendo valores Not a Number com 0\n",
    "dft['total acidentes 2020'].fillna(0, inplace=True)\n",
    "dft['total acidentes 2020']=dft['total acidentes 2020'].apply(int)#formatamos a coluna para inteiros\n",
    "\n",
    "# aqui podemos ver o aumento de acidentes em cada Br \n",
    "print('Comparação total de acidentes por BR, 2020 em relação a 2019\\n')\n",
    "print(dft)\n",
    "print('---------------------------------------------------------')\n",
    "# aqui podemos ver o aumento de acidentes no total \n",
    "print('Comparação total de acidentes, 2020 em relação a 2019\\n')\n",
    "print(dft.sum())\n",
    "#é possível dizer que o total de acidentes por BR teve um aumento negativo, ou seja\n",
    "#diminuição da quantidade de acidentes"
   ]
  }
 ],
 "metadata": {
  "kernelspec": {
   "display_name": "Python 3",
   "language": "python",
   "name": "python3"
  },
  "language_info": {
   "codemirror_mode": {
    "name": "ipython",
    "version": 3
   },
   "file_extension": ".py",
   "mimetype": "text/x-python",
   "name": "python",
   "nbconvert_exporter": "python",
   "pygments_lexer": "ipython3",
   "version": "3.8.5"
  }
 },
 "nbformat": 4,
 "nbformat_minor": 4
}
